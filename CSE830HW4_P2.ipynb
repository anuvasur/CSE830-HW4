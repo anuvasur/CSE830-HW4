{
 "cells": [
  {
   "cell_type": "code",
   "execution_count": 3,
   "id": "871a758f",
   "metadata": {},
   "outputs": [],
   "source": [
    "import random\n",
    "import timeit\n",
    "import matplotlib.pyplot as plt"
   ]
  },
  {
   "cell_type": "code",
   "execution_count": 4,
   "id": "ada974b8",
   "metadata": {},
   "outputs": [],
   "source": [
    "x_axis = []\n",
    "merge_list_y_axis = []\n",
    "\n",
    "insertion_y_axis = []"
   ]
  },
  {
   "cell_type": "code",
   "execution_count": 180,
   "id": "42f22cea",
   "metadata": {},
   "outputs": [
    {
     "name": "stdout",
     "output_type": "stream",
     "text": [
      "0.08543220000001384\n"
     ]
    }
   ],
   "source": [
    "#merge sort faster for large n      #from https://gist.github.com/femmerling/4366994\n",
    "\n",
    "\n",
    "x_axis.append(len_rand_list)\n",
    "\n",
    "start = timeit.default_timer()\n",
    "\n",
    "def merge_lists(left_sublist,right_sublist):\n",
    "\ti,j = 0,0\n",
    "\tresult = []\n",
    "\t#iterate through both left and right sublist\n",
    "\twhile i<len(left_sublist) and j<len(right_sublist):\n",
    "\t\t#if left value is lower than right then append it to the result\n",
    "\t\tif left_sublist[i] <= right_sublist[j]:\n",
    "\t\t\tresult.append(left_sublist[i])\n",
    "\t\t\ti += 1\n",
    "\t\telse:\n",
    "\t\t\t#if right value is lower than left then append it to the result\n",
    "\t\t\tresult.append(right_sublist[j])\n",
    "\t\t\tj += 1\n",
    "\t#concatenate the rest of the left and right sublists\n",
    "\tresult += left_sublist[i:]\n",
    "\tresult += right_sublist[j:]\n",
    "\t#return the result\n",
    "\treturn result\n",
    "\n",
    "def merge_sort(input_list):\n",
    "\t#if list contains only 1 element return it\n",
    "\tif len(input_list) <= 1:\n",
    "\t\treturn input_list\n",
    "\telse:\n",
    "\t\t#split the lists into two sublists and recursively split sublists\n",
    "\t\tmidpoint = int(len(input_list)/2)\n",
    "\t\tleft_sublist = merge_sort(input_list[:midpoint])\n",
    "\t\tright_sublist = merge_sort(input_list[midpoint:])\n",
    "\t\t#return the merged list using the merge_list function above\n",
    "\t\treturn merge_lists(left_sublist,right_sublist)\n",
    "\n",
    "\n",
    "#test run\n",
    "merge_sort(rand_list)\n",
    "\n",
    "end = timeit.default_timer()\n",
    "\n",
    "process_time = end - start\n",
    "\n",
    "print(process_time)\n",
    "\n",
    "merge_list_y_axis.append(process_time)\n",
    "\n"
   ]
  },
  {
   "cell_type": "code",
   "execution_count": 181,
   "id": "14ecceec",
   "metadata": {},
   "outputs": [
    {
     "name": "stdout",
     "output_type": "stream",
     "text": [
      "3.928346500000089\n"
     ]
    }
   ],
   "source": [
    "#insertion sort faster for small n\n",
    "\n",
    "#x_axis.append(len_rand_list)\n",
    "\n",
    "start = timeit.default_timer()\n",
    "\n",
    "def insertionsort(A): \n",
    "    #we start loop at second element (index 1) since the first item is already sorted         #from https://gist.github.com/basarat/3216903\n",
    "    for j in range(1,len(A)):\n",
    "        key = A[j] #The next item we are going to insert into the sorted section of the array\n",
    "\n",
    "        i = j-1 #the last item we are going to compare to\n",
    "        #now we keep moving the key back as long as it is smaller than the last item in the array\n",
    "        while (i > -1) and key < A[i]: #if i == -1 means that this key belongs at the start\n",
    "            A[i+1]=A[i] #move the last object compared one step ahead to make room for key\n",
    "            i=i-1 #observe the next item for next time.\n",
    "        #okay i is not greater than key means key belongs at i+1\n",
    "        A[i+1] = key\n",
    "    return A\n",
    "\n",
    "\n",
    "\n",
    "\n",
    "if __name__==\"__main__\":\n",
    "    #Generate 5 random numbers between 10 and 1000            # modification\n",
    "    #x = \n",
    "    \n",
    "#[9042, 8483, 8133, 3783, 8042, 2873, 64, 1351, 9227, 8895, 1219, 5415, 2047, 7407, 4938, 7530, 6987, 7069, 7240, 5663, 8836, 7147, 7704, 2428, 122, 4270, 3396, 7543, 2557, 5322, 3776, 8155, 2379, 1711, 9162, 5998, 3254, 5517, 3997, 1137, 8376, 4136, 800, 7149, 4238, 2819, 336, 847, 7793, 8881, 6229, 2015, 690, 9713, 2579, 6449, 1318, 8629, 3659, 7754, 6194, 4953, 912, 974, 4607, 31, 3448, 412, 4513, 9481, 7567, 1980, 5335, 3736, 9452, 8990, 1753, 7988, 9731, 6902, 275, 4341, 5132, 9639, 9254, 1244, 4554, 5349, 6262, 8976, 8462, 2415, 1147, 9140, 8931, 6385, 3617, 1275, 9940, 989, 5068, 8439, 6328, 71, 1883, 3242, 4260, 1916, 3858, 4549, 4431, 8935, 2940, 1494, 9287, 5388, 7972, 1587, 9030, 1407, 4649, 8696, 3944, 8901, 1608, 8232, 4256, 2122, 5214, 3654, 8000, 3541, 2960, 3958, 585, 7313, 3211, 6863, 7806, 6172, 6625, 502, 8978, 385, 8014, 7228, 8991, 9359, 6421, 9537, 4726, 8138, 6832, 6591, 372, 9934, 4819, 4090, 1669, 2332, 676, 1292, 5749, 5720, 4378, 5950, 9825, 1357, 9898, 1614, 7276, 7647, 4632, 2319, 8251, 7823, 3451, 3962, 9557, 2712, 563, 2321, 3417, 270, 8046, 5509, 3118, 2386, 3892, 4682, 2112, 3744, 8595, 5364, 6718, 9801, 6809, 5016, 9024, 933, 4989, 8843, 6730, 9769, 9383, 1411, 7998, 6049, 8688, 5823, 9356, 9500, 2245, 1203, 3106, 5079, 6972, 9784, 2549, 5624, 6777, 285, 8392, 1438, 2425, 6433, 7477, 2730, 7725, 3285, 9362, 5433, 4703, 6088, 5224, 2896, 8625, 4011, 6365, 2886, 4701, 2635, 7344, 1668, 7403, 6709, 250, 2674, 5846, 5731, 1691, 2042, 3734, 8381, 7644, 8126, 8096, 5919, 7770, 7479, 3253, 8711, 288, 2046, 5929, 2424, 2397, 7652, 3722, 6327, 9881, 6074, 760, 4303, 9414, 346, 1212, 4897, 4633, 9929, 4433, 5274, 6412, 3334, 1371, 628, 6984, 9598, 8612, 510, 1856, 8812, 6913, 1745, 8908, 9478, 5709, 9137, 449, 1556, 7605, 1125, 960, 1215, 8327, 8582, 43, 9924, 6126, 9779, 1766, 4302, 6585, 454, 5947, 2908, 2167, 1324, 1421, 3099, 5573, 1617, 5129, 7168, 9906, 5290, 3560, 7903, 4646, 3515, 9644, 4079, 4261, 279, 636, 8083, 6891, 8883, 4450, 4204, 8779, 1818, 5285, 6828, 6084, 7748, 7459, 8713, 107, 9640, 6505, 8943, 6781, 7024, 4529, 7449, 5592, 3241, 2804, 3599, 2541, 1499, 9198, 4565, 9390, 9200, 4861, 7211, 350, 8410, 2354, 8988, 9958, 1418, 6974, 3839, 4603, 1661, 8336, 2661, 6924, 5057, 9541, 714, 4114, 5894, 3751, 5117, 2274, 2911, 4697, 9066, 207, 7950, 2484, 7301, 718, 6761, 2446, 2162, 4851, 3230, 929, 5218, 5941, 3051, 6776, 917, 3973, 5425, 1645, 2252, 2718, 3968, 4223, 1904, 8120, 4750, 1339, 911, 8403, 1477, 4814, 4212, 2044, 7954, 7642, 9553, 357, 2038, 7696, 4059, 8997, 215, 3203, 1366, 7331, 4197, 7891, 3845, 5979, 9802, 3145, 9180, 4240, 7219, 5036, 7243, 7154, 876, 3122, 6071, 6153, 3996, 4393, 4196, 4790, 3510, 4162, 3412, 1597, 7964, 2121, 3371, 1599, 6492, 3717, 3243, 1585, 3071, 5381, 7783, 3967, 9207, 5397, 3836, 4601, 3021, 1812, 5969, 3004, 2759, 2481, 411, 9504, 2103, 9016, 771, 2010, 9043, 7068, 6672, 7248, 2190, 4973, 9600, 3936, 9264, 9246, 6818, 4177, 9845, 1541, 9752, 9715, 1038, 878, 7555, 3191, 8097, 6484, 5714, 3353, 4382, 5248, 2257, 6736, 7924, 9199, 2348, 4210, 2080, 6604, 4119, 7905, 8967, 19, 3672, 8340, 5422, 4891, 7875, 1835, 2947, 2232, 9908, 6611, 9694, 374, 4652, 9044, 1274, 9070, 9440, 3920, 2005, 2608, 6931, 2764, 4808, 3509, 7327, 1875, 5783, 1118, 6269, 7216, 6132, 9960, 4025, 7593, 1696, 5587, 5866, 1697, 6428, 833, 1977, 5385, 9077, 8918, 3957, 946, 3521, 1011, 2754, 8922, 6091, 2432, 1932, 781, 4951, 9427, 2355, 5060, 586, 3314, 5089, 428, 5745, 8076, 5453, 981, 5833, 9662, 5319, 7377, 4564, 1694, 3828, 9796, 2436, 5292, 4355, 8917, 8404, 1262, 8152, 3644, 3401, 2606, 1151, 2894, 9651, 7092, 2976, 5630, 2017, 9956, 7750, 8702, 2394, 7507, 7311, 8866, 2366, 877, 4519, 9271, 776, 5468, 3121, 8409, 6079, 6870, 427, 8767, 362, 467, 1257, 9135, 5365, 3138, 4022, 3945, 4968, 3055, 3965, 3022, 45, 3487, 1727, 4592, 2100, 5249, 681, 1742, 9754, 3468, 5061, 9951, 2464, 6351, 8227, 1610, 8370, 5145, 5755, 8520, 4522, 5420, 1431, 8034, 7432, 6921, 9689, 1052, 2409, 4480, 6290, 1604, 1709, 3140, 7455, 5669, 3600, 3184, 2882, 3047, 3727, 6257, 3147, 8554, 6989, 9041, 3595, 9616, 9817, 2085, 1451, 5548, 3069, 884, 6297, 5315, 5004, 6203, 3151, 6031, 1086, 5262, 6135, 5775, 978, 1992, 8788, 4849, 3133, 4151, 3204, 2429, 5149, 6518, 3629, 6859, 7822, 9869, 700, 6150, 85, 8594, 6853, 9668, 8578, 4954, 5053, 7253, 607, 3518, 4710, 70, 7433, 2524, 7711, 6641, 4319, 3692, 5948, 4742, 4109, 9360, 9575, 2856, 5561, 1161, 3385, 1053, 1209, 4802, 3656, 8995, 9590, 2224, 4494, 7081, 2891, 4884, 8153, 3168, 9913, 6616, 3135, 2625, 5475, 5066, 1710, 2903, 881, 392, 5163, 5735, 4755, 2387, 9331, 2281, 3046, 2539, 6213, 3042, 8973, 5990, 6188, 895, 133, 2847, 2771, 5304, 6710, 8292, 8098, 5086, 4782, 7170, 6896, 4969, 8305, 2395, 3342, 1797, 6326, 3520, 1297, 7463, 2356, 7767, 675, 4018, 7631, 3882, 190, 4708, 7544, 1124, 9911, 9188, 6948, 6610, 8708, 4366, 6178, 4144, 8499, 14, 9424, 1159, 1607, 5759, 6800, 2650, 5805, 8415, 1917, 548, 6053, 862, 2125, 2653, 9862, 3811, 1218, 3820, 3707, 6546, 7029, 7430, 2234, 1312, 935, 3642, 2717, 6283, 9841, 1427, 7353, 4476, 2955, 1261, 1254, 8463, 6566, 6423, 1322, 5770, 4577, 761, 479, 9299, 3733, 7549, 6789, 6713, 4576, 9086, 8385, 3860, 4559, 2631, 5686, 6532, 2646, 7681, 3653, 4459, 3602, 5207, 3999, 7245, 7444, 7028, 662, 8919, 7190, 5193, 9229, 8597, 8540, 6523, 3628, 6751, 1548, 9732, 3810, 5489, 8533, 8045, 4570, 707, 2014, 711, 7171, 8054, 5959, 9915, 7590, 2075, 3976, 7861, 9266, 4940, 6521, 4203, 6154, 583, 2262, 4560, 1555, 6979, 3616, 8021, 9361, 6398, 6432, 1050, 118, 2636, 5293, 9712, 9269, 3212, 6156, 1133, 7036, 232, 9069, 9770, 3123, 5395, 8312, 7669, 9579, 2749, 3091, 2327, 51, 3309, 4255, 2779, 5506, 810, 8130, 352, 88, 2454, 1739, 5099, 1989, 3355, 52, 2991, 8101, 6276, 2577, 7347, 2845, 9613, 871, 3437, 9750, 9711, 2138, 6915, 7173, 8896, 8443, 7610, 8826, 469, 5047, 8762, 8661, 9818, 2240, 1951, 5441, 2337, 6349, 255, 3701, 916, 5845, 4561, 591, 9530, 9270, 6450, 6867, 354, 5001, 5088, 2221, 2302, 9975, 8969, 6355, 3363, 6603, 7209, 4015, 482, 6024, 5299, 4902, 1870, 9290, 5842, 9080, 5343, 5640, 4719, 5098, 176, 4658, 8860, 2037, 3558, 849, 3732, 3567, 6237, 7098, 582, 2091, 2474, 9417, 3840, 2081, 6311, 6669, 633, 5724, 2062, 9372, 5340, 1313, 8940, 5591, 5254, 4690, 7880, 684, 4078, 6128, 3102, 2413, 1824, 4981, 4030, 4289, 2249, 1906, 753, 9161, 9641, 89, 320, 5938, 2688, 1655, 369, 8074, 3443, 8939, 1230, 9064, 9049, 8981, 8472, 7795, 96, 8026, 5832, 1251, 4475, 7197, 7177, 1920, 7797, 8191, 6885, 9927, 5130, 5633, 842, 5985, 827, 187, 11, 3878, 8234, 8317, 9238, 7006, 5476, 434, 2146, 1375, 7708, 5199, 1377, 7143, 7824, 1360, 2307, 3433, 1216, 8655, 3114, 4283, 8996, 9856, 7447, 4440, 9245, 3797, 7001, 7564, 7821, 6822, 6670, 326, 2985, 1269, 652, 8432, 9197, 8478, 7802, 7152, 3769, 8209, 5310, 9758, 7801, 2097, 6130, 4126, 7845, 4160, 9460, 3286, 3422, 8401, 2727, 6038, 8521, 2509, 5451, 2197, 9103, 8710, 4226, 957, 4900, 7742, 4800, 4878, 6526, 3743, 2601, 7085, 9709, 9768, 6609, 5668, 1664, 9119, 8580, 7163, 7686, 134, 3465, 7694, 3847, 7400, 9133, 594, 2255, 7158, 8261, 5050, 4886, 4662, 9755, 9892, 1640, 3026, 1764, 2778, 2490, 6942, 9432, 7820, 3128, 1898, 5389, 5545, 2278, 4419, 8536, 5256, 6459, 7563, 4704, 1738, 5209, 226, 5688, 8207, 151, 5273, 2957, 4394, 1689, 1525, 1975, 7133, 9866, 2390, 8355, 7393, 4141, 495, 3085, 2282, 5610, 3498, 8798, 3224, 8163, 8761, 6466, 3699, 5131, 8004, 9352, 9152, 99, 3556, 6285, 7175, 9974, 1160, 6858, 971, 3074, 6618, 8239, 1734, 8605, 8902, 3010, 9081, 3637, 4117, 2682, 165, 4322, 3195, 2095, 5181, 934, 2260, 6622, 3504, 1663, 1329, 3381, 312, 2491, 3473, 3486, 7617, 2591, 1390, 1113, 2808, 3763, 3869, 4635, 9263, 4946, 5901, 202, 6152, 8506, 7941, 8600, 160, 4353, 9302, 7573, 213, 2769, 5288, 6487, 6419, 3523, 8693, 1854, 4724, 7558, 7604, 3399, 3598, 6726, 9040, 938, 9209, 7661, 5926, 1284, 5967, 9717, 9884, 4224, 7841, 2206, 7691, 6769, 1197, 7758, 9274, 8510, 9636, 9706, 1484, 3492, 9118, 4776, 6284, 9083, 578, 9843, 5934, 4273, 8546, 9222, 3512, 3814, 7019, 2189, 677, 7490, 9855, 7993, 440, 4639, 9547, 4546, 896, 5814, 1958, 8328, 2504, 745, 4047, 4772, 3471, 117, 1848, 1148, 8749, 7729, 5695, 5965, 8910, 6267, 7488, 6391, 4829, 6729, 8131, 8022, 97, 3136, 26, 8331, 2403, 8072, 755, 1300, 395, 9370, 5177, 6325, 7288, 2096, 6378, 1359, 5529, 4143, 1176, 8038, 6076, 5305, 1192, 796, 4503, 4213, 7157, 8579, 3354, 5067, 8173, 1522, 9120, 8934, 1941, 437, 9680, 7090, 9061, 5515, 3160, 5995, 1954, 3431, 3024, 561, 5182, 4313, 9659, 9464, 5821, 7791, 9716, 5937, 7020, 2648, 3252, 127, 674, 1180, 1367, 1112, 3533, 7551, 6749, 8268, 7720, 7220, 1540, 5069, 5406, 2486, 4825, 4032, 5648, 4108, 9931, 9150, 2381, 6199, 651, 3640, 4739, 2612, 4516, 379, 716, 8393, 6516, 95, 8358, 2858, 7026, 3499, 3532, 5331, 1737, 4720, 6740, 4099, 9126, 9186, 3785, 3787, 2571, 9243, 1657, 5719, 7351, 8957, 2420, 4017, 7689, 4807, 7222, 8188, 1754, 9675, 8458, 6555, 6493, 4182, 9734, 3848, 2568, 98, 830, 2693, 5073, 5657, 8278, 2331, 2427, 5841, 7935, 6062, 6707, 7915, 104, 3390, 9177, 1465, 414, 9438, 9394, 8444, 1625, 9158, 3706, 7262, 5915, 9457, 1646, 8286, 6711, 5153, 9820, 2752, 9876, 5760, 6231, 7930, 5807, 9649, 8552, 8954, 4786, 8110, 3662, 3341, 2141, 2838, 5852, 3645, 4343, 2705, 3986, 6009, 952, 4464, 8080, 6202, 7392, 6666, 7099, 4014, 8219, 9319, 6060, 2866, 2203, 8051, 5602, 8048, 9850, 6549, 8726, 2298, 15, 962, 1671, 1434, 7267, 1328, 3741, 6413, 8647, 8049, 816, 7101, 5135, 532, 4756, 6766, 9690, 3441, 9111, 5418, 2286, 257, 1149, 5278, 8267, 2738, 9220, 7562, 6502, 4676, 2272, 1678, 249, 1751, 9529, 9606, 192, 8601, 7283, 2368, 493, 4181, 182, 382, 7608, 8729, 6174, 6061, 1428, 8377, 4784, 6147, 5341, 9050, 1531, 1423, 6794, 7926, 9592, 632, 7089, 5739, 609, 9063, 1021, 2861, 6348, 2011, 3054, 6927, 189, 797, 5575, 682, 2603, 8262, 3325, 7595, 4146, 8119, 7815, 7084, 1091, 5609, 6201, 5039, 7481, 9346, 7940, 6235, 1876, 8728, 196, 538, 4945, 4691, 9877, 4147, 3660, 9441, 6023, 7329, 6748, 661, 5685, 7735, 2699, 6149, 9658, 5898, 1340, 3964, 1891, 7503, 708, 1025, 8857, 4873, 2412, 5705, 129, 7421, 1577, 3901, 5872, 5895, 703, 9724, 5815, 995, 6016, 7045, 8924, 6011, 3877, 3288, 9333, 9001, 1429, 8938, 4664, 2868, 2782, 5108, 2023, 6962, 1291, 186, 4468, 429, 6899, 8846, 3527, 9471, 5154, 5973, 8858, 8776, 5211, 9531, 547, 4799, 1928, 224, 6029, 3036, 6346, 9293, 4791, 140, 2173, 4556, 758, 1078, 6481, 6801, 600, 4087, 4990, 9533, 7241, 3475, 5725, 861, 6408, 2297, 9723, 4971, 7857, 1043, 1662, 57, 5253, 9853, 3137, 5751, 5849, 605, 4711, 1439, 8295, 8065, 1841, 3351, 9402, 9182, 8183, 3601, 940, 9435, 3667, 5543, 5186, 3319, 3124, 2611, 2877, 5096, 7846, 6251, 6087, 1195, 6124, 2550, 839, 7509, 8199, 5045, 6764, 9476, 3912, 3592, 612, 2781, 1206, 3189, 1419, 7670, 6491, 3604, 1393, 5106, 6551, 1880, 9996, 8637, 3625, 2906, 8158, 642, 8161, 7435, 4862, 1502, 7936, 9943, 6020, 511, 5764, 7356, 3852, 4913, 5906, 5869, 6796, 3898, 4167, 2048, 4060, 6260, 7982, 2689, 906, 4486, 5213, 5976, 90, 1762, 8615, 2556, 6951, 4617, 9455, 6844, 5378, 4934, 7362, 1278, 5196, 691, 3158, 6701, 9039, 9534, 9307, 7474, 2280, 6658, 6480, 866, 6448, 9230, 7271, 8003, 4045, 7289, 798, 7011, 5023, 7902, 2182, 9248, 1101, 733, 7073, 8885, 2659, 9583, 5442, 823, 8906, 1913, 4831, 7307, 1186, 9309, 4362, 9688, 623, 6200, 1424, 9334, 7233, 992, 4803, 1747, 7838, 9340, 5970, 2565, 7765, 344, 1724, 8968, 9795, 2185, 5097, 3343, 5294, 710, 7651, 3073, 2293, 5824, 1551, 4551, 4972, 1503, 7693, 7460, 2983, 638, 1142, 9914, 2726, 1819, 6817, 1630, 7780, 3418, 8149, 2975, 9087, 1683, 979, 1338, 9953, 5190, 9897, 8187, 6291, 7882, 2145, 1850, 9163, 3460, 4174, 3323, 4707, 8987, 9891, 2644, 2210, 4571, 870, 9727, 2451, 2439, 3356]\n",
    "    insertionsort(rand_list)\n",
    "    \n",
    "    #print(x)\n",
    "    #show_time = timeit.timeit(lambda: insertionsort(rand_list), number=1)      # time in seconds\n",
    "    #n = len(rand_list)\n",
    "    #print(show_time)\n",
    "    #plt.scatter(show_time,n)\n",
    "    #plt.show()\n",
    "    end = timeit.default_timer()\n",
    "    \n",
    "    process_time = end - start\n",
    "    \n",
    "    print(process_time)\n",
    "    \n",
    "    insertion_y_axis.append(process_time)\n",
    "    "
   ]
  },
  {
   "cell_type": "code",
   "execution_count": 9,
   "id": "a755e470",
   "metadata": {},
   "outputs": [],
   "source": [
    "x_axis = []\n",
    "\n",
    "insertion_list = []\n",
    "\n",
    "merge_list = []\n",
    "\n",
    "tim_list_y = []\n"
   ]
  },
  {
   "cell_type": "code",
   "execution_count": 46,
   "id": "a7e55a13",
   "metadata": {},
   "outputs": [],
   "source": [
    "#Generate 5 random numbers between 10 and 1000000            # modification\n",
    "rand_list = random.sample(range(1, 100000),10100)\n",
    "len_rand = len(rand_list)\n",
    "#print(rand_list)"
   ]
  },
  {
   "cell_type": "code",
   "execution_count": 303,
   "id": "519a0c6f",
   "metadata": {},
   "outputs": [],
   "source": [
    "#Generate 5 random numbers between 10 and 1000000            # modification\n",
    "rand_list = random.sample(range(1, 100000),10100)\n",
    "#print(rand_list)\n",
    "\n",
    "len_rand_list = len(rand_list)"
   ]
  },
  {
   "cell_type": "code",
   "execution_count": 304,
   "id": "475573e4",
   "metadata": {},
   "outputs": [
    {
     "name": "stdout",
     "output_type": "stream",
     "text": [
      "180\n",
      "is 1.1178009000000202\n",
      "1.1371616999999787\n"
     ]
    }
   ],
   "source": [
    "## Python3 program to perform basic timSort        #from https://www.geeksforgeeks.org/timsort/\n",
    "start = timeit.default_timer()\n",
    "\n",
    "MIN_MERGE = int(input())\n",
    "\n",
    "#x_axis.append(len_rand)\n",
    " \n",
    "def calcMinRun(n):\n",
    "    \"\"\"Returns the minimum length of a\n",
    "    run from 23 - 64 so that\n",
    "    the len(array)/minrun is less than or\n",
    "    equal to a power of 2.\n",
    " \n",
    "    e.g. 1=>1, ..., 63=>63, 64=>32, 65=>33,\n",
    "    ..., 127=>64, 128=>32, ...\n",
    "    \"\"\"\n",
    "    r = 0\n",
    "    while n >= MIN_MERGE:\n",
    "        r |= n & 1\n",
    "        n >>= 1\n",
    "    return n + r\n",
    " \n",
    " \n",
    "# This function sorts array from left index to\n",
    "# to right index which is of size atmost RUN\n",
    "def insertionSort(arr, left, right):\n",
    "    for i in range(left + 1, right + 1):\n",
    "        j = i\n",
    "        while j > left and arr[j] < arr[j - 1]:\n",
    "            arr[j], arr[j - 1] = arr[j - 1], arr[j]\n",
    "            j -= 1\n",
    "            \n",
    "    insertion_end = timeit.default_timer()\n",
    "    \n",
    "    insertion_process = insertion_end - start\n",
    "    \n",
    "    return insertion_process\n",
    "    print('i',insertion_process)\n",
    "    \n",
    "    insertion_list.append(insertion_process)\n",
    "    \n",
    " \n",
    " \n",
    "# Merge function merges the sorted runs\n",
    "def merge(arr, l, m, r):\n",
    "     \n",
    "    # original array is broken in two parts\n",
    "    # left and right array\n",
    "    len1, len2 = m - l + 1, r - m\n",
    "    left, right = [], []\n",
    "    for i in range(0, len1):\n",
    "        left.append(arr[l + i])\n",
    "    for i in range(0, len2):\n",
    "        right.append(arr[m + 1 + i])\n",
    " \n",
    "    i, j, k = 0, 0, l\n",
    "     \n",
    "    # after comparing, we merge those two array\n",
    "    # in larger sub array\n",
    "    while i < len1 and j < len2:\n",
    "        if left[i] <= right[j]:\n",
    "            arr[k] = left[i]\n",
    "            i += 1\n",
    " \n",
    "        else:\n",
    "            arr[k] = right[j]\n",
    "            j += 1\n",
    " \n",
    "        k += 1\n",
    " \n",
    "    # Copy remaining elements of left, if any\n",
    "    while i < len1:\n",
    "        arr[k] = left[i]\n",
    "        k += 1\n",
    "        i += 1\n",
    " \n",
    "    # Copy remaining element of right, if any\n",
    "    while j < len2:\n",
    "        arr[k] = right[j]\n",
    "        k += 1\n",
    "        j += 1\n",
    "        \n",
    "\n",
    "    merge_end = timeit.default_timer()\n",
    "    \n",
    "    merge_process = merge_end - start\n",
    "    \n",
    "    return merge_process\n",
    "    \n",
    "    print(merge_process)\n",
    "    \n",
    "    merge_list.append(merge_process)\n",
    "   \n",
    "\n",
    "    \n",
    " \n",
    " \n",
    "# Iterative Timsort function to sort the\n",
    "# array[0...n-1] (similar to merge sort)\n",
    "def timSort(arr):\n",
    "    n = len(arr)\n",
    "    minRun = calcMinRun(n)\n",
    "     \n",
    "    # Sort individual subarrays of size RUN\n",
    "    for start in range(0, n, minRun):\n",
    "        end = min(start + minRun - 1, n - 1)\n",
    "        insertionSort(arr, start, end)\n",
    "        \n",
    "    insertion_process = insertionSort(arr, start, end)\n",
    "    insertion_list.append(insertion_process)\n",
    "    print('is', insertion_process)\n",
    " \n",
    "    # Start merging from size RUN (or 32). It will merge\n",
    "    # to form size 64, then 128, 256 and so on ....\n",
    "    size = minRun\n",
    "    while size < n:\n",
    "         \n",
    "        # Pick starting point of left sub array. We\n",
    "        # are going to merge arr[left..left+size-1]\n",
    "        # and arr[left+size, left+2*size-1]\n",
    "        # After every merge, we increase left by 2*size\n",
    "        for left in range(0, n, 2 * size):\n",
    " \n",
    "            # Find ending point of left sub array\n",
    "            # mid+1 is starting point of right sub array\n",
    "            mid = min(n - 1, left + size - 1)\n",
    "            right = min((left + 2 * size - 1), (n - 1))\n",
    " \n",
    "            # Merge sub array arr[left.....mid] &\n",
    "            # arr[mid+1....right]\n",
    "            if mid < right:\n",
    "                merge(arr, left, mid, right)\n",
    "            \n",
    " \n",
    " \n",
    "        size = 2 * size\n",
    "        \n",
    "        #merge_process = merge(arr, left, mid, right)\n",
    "            \n",
    "   # print('m', merge_process)\n",
    "    #merge_list.append(merge_process)\n",
    " \n",
    " \n",
    "# Driver program to test above function\n",
    "if __name__ == \"__main__\":\n",
    " \n",
    "    timSort(rand_list)\n",
    "    \n",
    "    tim_end = timeit.default_timer() \n",
    "    \n",
    "    tim_process = tim_end - start\n",
    "    \n",
    "    print(tim_process)\n",
    "    \n",
    "    #print(tim_process)\n",
    "    \n",
    "    tim_list_y.append(tim_process)\n",
    "    \n",
    "    \n"
   ]
  },
  {
   "cell_type": "markdown",
   "id": "95898d22",
   "metadata": {},
   "source": [
    "###### "
   ]
  },
  {
   "cell_type": "code",
   "execution_count": 237,
   "id": "37896598",
   "metadata": {},
   "outputs": [
    {
     "name": "stdout",
     "output_type": "stream",
     "text": [
      "10\n",
      "20\n",
      "40\n",
      "100\n",
      "150\n",
      "200\n",
      "300\n",
      "400\n",
      "500\n",
      "600\n",
      "700\n",
      "1000\n",
      "4000\n",
      "5000\n",
      "10000\n",
      "10100\n"
     ]
    }
   ],
   "source": [
    "for i in x_axis:\n",
    "    print(i)"
   ]
  },
  {
   "cell_type": "code",
   "execution_count": 272,
   "id": "bda757a2",
   "metadata": {},
   "outputs": [],
   "source": [
    "#x_axis.clear()\n",
    "\n",
    "#merge_list_y_axis.clear()\n",
    "\n",
    "#insertion_y_axis.clear()\n",
    "\n",
    "tim_list_y.clear()\n"
   ]
  },
  {
   "cell_type": "code",
   "execution_count": 225,
   "id": "fb39fe1b",
   "metadata": {},
   "outputs": [],
   "source": [
    "for i in x_axis:\n",
    "    print(i)"
   ]
  },
  {
   "cell_type": "code",
   "execution_count": 236,
   "id": "ec495de1",
   "metadata": {},
   "outputs": [],
   "source": [
    "x_axis.append(10)\n",
    "x_axis.append(20)\n",
    "x_axis.append(40)\n",
    "x_axis.append(100)\n",
    "x_axis.append(150)\n",
    "x_axis.append(200)\n",
    "x_axis.append(300)\n",
    "x_axis.append(400)\n",
    "x_axis.append(500)\n",
    "x_axis.append(600)\n",
    "x_axis.append(700)\n",
    "x_axis.append(1000)\n",
    "x_axis.append(4000)\n",
    "x_axis.append(5000)\n",
    "x_axis.append(10000)\n",
    "x_axis.append(10100)"
   ]
  },
  {
   "cell_type": "code",
   "execution_count": 223,
   "id": "35984c88",
   "metadata": {},
   "outputs": [
    {
     "name": "stdout",
     "output_type": "stream",
     "text": [
      "0.0005712999999900603\n",
      "0.0002557999999908134\n",
      "0.000319399999966663\n",
      "0.0014172999999573221\n",
      "0.0017083000000184256\n",
      "0.0020690000000058717\n",
      "0.0030044999999745414\n",
      "0.007511099999987891\n",
      "0.005860299999994822\n",
      "0.006341099999986\n",
      "0.0075686999999788895\n",
      "0.011921099999995022\n",
      "0.03502779999996619\n",
      "0.053312099999971\n",
      "0.10926039999992554\n",
      "0.08543220000001384\n"
     ]
    }
   ],
   "source": [
    "for i in merge_list_y_axis:\n",
    "    print(i)"
   ]
  },
  {
   "cell_type": "code",
   "execution_count": null,
   "id": "aef95724",
   "metadata": {},
   "outputs": [],
   "source": []
  },
  {
   "cell_type": "code",
   "execution_count": null,
   "id": "722cfa2c",
   "metadata": {},
   "outputs": [],
   "source": []
  },
  {
   "cell_type": "code",
   "execution_count": 305,
   "id": "dc0a5803",
   "metadata": {},
   "outputs": [
    {
     "name": "stdout",
     "output_type": "stream",
     "text": [
      "10\n",
      "20\n",
      "40\n",
      "100\n",
      "150\n",
      "200\n",
      "300\n",
      "400\n",
      "500\n",
      "600\n",
      "700\n",
      "1000\n",
      "4000\n",
      "5000\n",
      "10000\n",
      "10100\n"
     ]
    },
    {
     "data": {
      "image/png": "[encoded data removed]",
      "text/plain": [
       "<Figure size 432x288 with 1 Axes>"
      ]
     },
     "metadata": {
      "needs_background": "light"
     },
     "output_type": "display_data"
    }
   ],
   "source": [
    "#x = [10,20,30,40,50]\n",
    "#y = [30,30,30,30,30]\n",
    "\n",
    "#y1 = [20,20,20,20,20]\n",
    "\n",
    "for i in x_axis: \n",
    "    print(i)\n",
    "\n",
    "plt.plot(x_axis,merge_list_y_axis,label = 'Merge Sort')\n",
    "plt.plot(x_axis, insertion_y_axis,label = 'Insertion Sort')\n",
    "plt.plot(x_axis, tim_list_y,label = 'TimSort')\n",
    "\n",
    "#plt.xticks([0,100,200,300,400,500]) \n",
    "\n",
    "plt.xlabel(\"List Length\")\n",
    "plt.ylabel(\"Process Time (s)\")\n",
    "\n",
    "plt.title(\"Process Time Comparison Between Merge Sort and Insertion Sort\")\n",
    "\n",
    "\n",
    "\n",
    "plt.legend()\n",
    "#plt.show()\n",
    "plt.grid()"
   ]
  },
  {
   "cell_type": "code",
   "execution_count": null,
   "id": "27a63b1a",
   "metadata": {},
   "outputs": [],
   "source": []
  }
 ],
 "metadata": {
  "kernelspec": {
   "display_name": "Python 3 (ipykernel)",
   "language": "python",
   "name": "python3"
  },
  "language_info": {
   "codemirror_mode": {
    "name": "ipython",
    "version": 3
   },
   "file_extension": ".py",
   "mimetype": "text/x-python",
   "name": "python",
   "nbconvert_exporter": "python",
   "pygments_lexer": "ipython3",
   "version": "3.9.7"
  }
 },
 "nbformat": 4,
 "nbformat_minor": 5
}
